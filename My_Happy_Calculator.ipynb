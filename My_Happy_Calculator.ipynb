{
 "cells": [
  {
   "cell_type": "code",
   "execution_count": 3,
   "metadata": {},
   "outputs": [],
   "source": [
    "import PySimpleGUI as sg"
   ]
  },
  {
   "cell_type": "code",
   "execution_count": 11,
   "metadata": {},
   "outputs": [
    {
     "name": "stdout",
     "output_type": "stream",
     "text": [
      "=\n",
      "=\n",
      "=\n"
     ]
    }
   ],
   "source": [
    "sg.theme('DarkAmber')\n",
    "sg.set_options(font = 'verdana 20', text_justification= 'justified')\n",
    "\n",
    "button_size = (3,1)\n",
    "typed_keys = []\n",
    "typed_number = []\n",
    "full_operations = []\n",
    "\n",
    "layout = [\n",
    "    [sg.Text('', font = 'verdana 28', expand_x=True, justification= 'center', pad = (10,0), key='Screen', background_color = '#32334d')],\n",
    "    [sg.Button('Clear', expand_x=True), sg.Button('Erase', expand_x=True)],\n",
    "    [sg.Button('7', size=button_size),sg.Button('8', size=button_size),sg.Button('9', size=button_size),sg.Button('÷', size=button_size)],\n",
    "    [sg.Button('4', size=button_size),sg.Button('5', size=button_size),sg.Button('6', size=button_size),sg.Button('x', size=button_size)],\n",
    "    [sg.Button('1', size=button_size),sg.Button('2', size=button_size),sg.Button('3', size=button_size),sg.Button('-', size=button_size)],\n",
    "    [sg.Button('0', size=button_size),sg.Button('.', size = button_size),sg.Button('+', size = button_size), sg.Button('=', expand_x=True, bind_return_key=True)]\n",
    "    ]\n",
    "\n",
    "window = sg.Window('Calculator', layout, return_keyboard_events = True)\n",
    "\n",
    "while True:\n",
    "    event, values = window.read()\n",
    "\n",
    "    if typed_keys == []: typed_keys.append('0')\n",
    "\n",
    "    if event == sg.WIN_CLOSED:\n",
    "        break\n",
    "    if event in ['0','1','2','3','4','5','6','7','8','9','.']:\n",
    "        typed_keys.append(event)\n",
    "        if typed_keys[0] == '0' and typed_keys[1] != '.': typed_keys.pop(0) \n",
    "        typed_equation = ''.join(typed_keys)\n",
    "        window['Screen'].update(typed_equation)\n",
    "\n",
    "    if event in ['÷','x','-','+','/','*'] and typed_keys[-1] not in ['÷','x','-','+','/','*']:\n",
    "        if event == '÷': event = '/'\n",
    "        if event == 'x': event = '*'\n",
    "        full_operations.append(''.join(typed_keys))\n",
    "        typed_keys = []\n",
    "        full_operations.append(event)\n",
    "\n",
    "    if event == \"Erase\":\n",
    "\n",
    "        if len(typed_keys)>0:\n",
    "            typed_keys.pop()\n",
    "        typed_equation = ''.join(typed_keys)\n",
    "        window['Screen'].update(typed_equation)\n",
    "\n",
    "    if event == \"Clear\":\n",
    "        if len(typed_keys)>0:\n",
    "            typed_keys = []\n",
    "        typed_equation = ''.join(typed_keys)\n",
    "        window['Screen'].update(typed_equation)\n",
    "   \n",
    "    if event == \"=\":\n",
    "        full_operations.append(''.join(typed_keys))\n",
    "        result = float(eval(''.join(full_operations)))\n",
    "        full_operations = []\n",
    "        typed_keys = list(str(round(result,6)))\n",
    "        typed_equation = ''.join(typed_keys)\n",
    "        window['Screen'].update(typed_equation)\n",
    "        print(event)\n",
    "\n",
    "window.close()"
   ]
  },
  {
   "cell_type": "code",
   "execution_count": null,
   "metadata": {},
   "outputs": [],
   "source": []
  }
 ],
 "metadata": {
  "kernelspec": {
   "display_name": "Coding",
   "language": "python",
   "name": "python3"
  },
  "language_info": {
   "codemirror_mode": {
    "name": "ipython",
    "version": 3
   },
   "file_extension": ".py",
   "mimetype": "text/x-python",
   "name": "python",
   "nbconvert_exporter": "python",
   "pygments_lexer": "ipython3",
   "version": "3.9.13"
  },
  "orig_nbformat": 4
 },
 "nbformat": 4,
 "nbformat_minor": 2
}
